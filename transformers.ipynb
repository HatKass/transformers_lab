{
 "cells": [
  {
   "cell_type": "code",
   "execution_count": 9,
   "id": "28e7e973-b0a3-43e9-92b9-07066d6ecb32",
   "metadata": {},
   "outputs": [
    {
     "name": "stdout",
     "output_type": "stream",
     "text": [
      "Sentence: Transformers are amazing\n",
      "Shape of embedding: (1, 3, 1024)\n"
     ]
    }
   ],
   "source": [
    "import tensorflow as tf\n",
    "import tensorflow_hub as hub\n",
    "import warnings\n",
    "warnings.filterwarnings('ignore')\n",
    "tf.get_logger().setLevel('ERROR')\n",
    "\n",
    "elmo = hub.load(\"https://tfhub.dev/google/elmo/3\")\n",
    "\n",
    "def get_elmo_embeddings(text):\n",
    "    return elmo.signatures[\"default\"](tf.constant([text]))[\"elmo\"]\n",
    "\n",
    "sentence = \"Transformers are amazing\"\n",
    "embedding = get_elmo_embeddings(sentence)\n",
    "\n",
    "print(\"Sentence:\", sentence)\n",
    "print(\"Shape of embedding:\", embedding.shape)\n"
   ]
  },
  {
   "cell_type": "code",
   "execution_count": 10,
   "id": "14d4e5ca-df82-48c6-a6c6-b8b588516535",
   "metadata": {},
   "outputs": [
    {
     "name": "stdout",
     "output_type": "stream",
     "text": [
      "Sentence: BERT is useful for many NLP tasks.\n",
      "Shape of output: torch.Size([1, 11, 768])\n"
     ]
    }
   ],
   "source": [
    "from transformers import BertTokenizer, BertModel\n",
    "import torch\n",
    "\n",
    "\n",
    "tokenizer = BertTokenizer.from_pretrained(\"bert-base-uncased\")\n",
    "model = BertModel.from_pretrained(\"bert-base-uncased\")\n",
    "\n",
    "\n",
    "sentence = \"BERT is useful for many NLP tasks.\"\n",
    "\n",
    "\n",
    "inputs = tokenizer(sentence, return_tensors=\"pt\")\n",
    "\n",
    "\n",
    "with torch.no_grad():\n",
    "    outputs = model(**inputs)\n",
    "\n",
    "\n",
    "last_hidden_state = outputs.last_hidden_state\n",
    "\n",
    "print(\"Sentence:\", sentence)\n",
    "print(\"Shape of output:\", last_hidden_state.shape)\n"
   ]
  },
  {
   "cell_type": "code",
   "execution_count": 11,
   "id": "b7c98aec-461b-43f8-8c83-11ef7af9340f",
   "metadata": {
    "scrolled": true
   },
   "outputs": [
    {
     "name": "stdout",
     "output_type": "stream",
     "text": [
      "Once upon a time in Morocco, the Queen had spent half her life at the Grand Mosque in Paris; but the King had been exiled to Morocco; and he had been so long in England, when he had succeeded to the throne, that he was\n"
     ]
    }
   ],
   "source": [
    "from transformers import GPT2LMHeadModel, GPT2Tokenizer\n",
    "\n",
    "\n",
    "tokenizer = GPT2Tokenizer.from_pretrained(\"gpt2\")\n",
    "model = GPT2LMHeadModel.from_pretrained(\"gpt2\")\n",
    "\n",
    "\n",
    "prompt = \"Once upon a time in Morocco\"\n",
    "\n",
    "\n",
    "input_ids = tokenizer(prompt, return_tensors=\"pt\").input_ids\n",
    "\n",
    "\n",
    "output_ids = model.generate(\n",
    "    input_ids,\n",
    "    max_length=50,\n",
    "    do_sample=True,\n",
    "    top_k=50,\n",
    "    top_p=0.95,\n",
    "    temperature=0.9,\n",
    "    pad_token_id=tokenizer.eos_token_id  # ✅ added to suppress warning\n",
    ")\n",
    "\n",
    "\n",
    "\n",
    "generated_text = tokenizer.decode(output_ids[0], skip_special_tokens=True)\n",
    "print(generated_text)\n"
   ]
  },
  {
   "cell_type": "code",
   "execution_count": null,
   "id": "7e841a2f-1fbb-4c5a-a16f-e34a1c097168",
   "metadata": {},
   "outputs": [],
   "source": []
  }
 ],
 "metadata": {
  "kernelspec": {
   "display_name": "Python (dl-env)",
   "language": "python",
   "name": "dl-env"
  },
  "language_info": {
   "codemirror_mode": {
    "name": "ipython",
    "version": 3
   },
   "file_extension": ".py",
   "mimetype": "text/x-python",
   "name": "python",
   "nbconvert_exporter": "python",
   "pygments_lexer": "ipython3",
   "version": "3.10.0"
  }
 },
 "nbformat": 4,
 "nbformat_minor": 5
}
